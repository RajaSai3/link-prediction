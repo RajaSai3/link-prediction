{
 "cells": [
  {
   "cell_type": "markdown",
   "metadata": {},
   "source": [
    "# Link Prediction in graphs using features based techniques\n",
    "\n",
    "This notebook contains code and implementation of the following feature based Link prediction algorithms for the given example graph\n",
    "\n"
   ]
  },
  {
   "cell_type": "markdown",
   "metadata": {},
   "source": [
    "1. Node neighbourhood based features\n",
    "2. Jaccard Coefficient\n",
    "3. Adamic Adar Value\n",
    "___\n",
    "Done by:\n",
    "\n",
    "\n",
    "**T. Narasimha**\n",
    "\n",
    "**17331A1256**\n",
    "\n",
    "___"
   ]
  },
  {
   "cell_type": "markdown",
   "metadata": {},
   "source": [
    "Importing required packages"
   ]
  },
  {
   "cell_type": "code",
   "execution_count": null,
   "metadata": {},
   "outputs": [],
   "source": [
    "import operator\n",
    "import math"
   ]
  },
  {
   "cell_type": "markdown",
   "metadata": {},
   "source": [
    "The graph used in this example is \n",
    "\n",
    "![Example Graph](input_graph.png)\n",
    "\n",
    "  **Note:**  The code in this notebook currently supports only undirected graphs."
   ]
  },
  {
   "cell_type": "markdown",
   "metadata": {},
   "source": [
    "> Initializing required variables\n",
    "\n",
    "- The `graph` variable contains adjacency matrix of given graph.\n",
    "\n",
    "- `neighbours` dictionary holds each vertex as key and its coressponding neighbours as a set of vertices\n",
    "\n",
    "- `common_vertices` dictionary holds all possible pair of vertices (frozenset) to which link has to be predicted as key and the common vertices between them (set) as values \n",
    "\n",
    "- `common_vertices_count` dictionary is similar to `common_vertices` but holds the number of common vertices as value\n",
    "\n",
    "Feel free to change the `graph` value adjacency matrix with a different value to explore different possibilities. "
   ]
  },
  {
   "cell_type": "code",
   "execution_count": null,
   "metadata": {},
   "outputs": [],
   "source": [
    "graph = [[0, 0, 0, 1, 0, 1, 0, 0, 0, 1],\n",
    "         [0, 0, 1, 1, 0, 0, 0, 0, 1, 0],\n",
    "         [0, 1, 0, 0, 0, 1, 1, 0, 0, 0],\n",
    "         [1, 1, 0, 0, 1, 0, 1, 0, 0, 0],\n",
    "         [0, 0, 0, 1, 0, 0, 0, 1, 1, 1],\n",
    "         [1, 0, 1, 0, 0, 0, 0, 0, 0, 0],\n",
    "         [0, 0, 1, 1, 0, 0, 0, 0, 0, 0],\n",
    "         [0, 0, 0, 0, 1, 0, 0, 0, 0, 0],\n",
    "         [0, 1, 0, 0, 1, 0, 0, 0, 0, 0],\n",
    "         [1, 0, 0, 0, 1, 0, 0, 0, 0, 0],\n",
    "        ]\n",
    "\n",
    "neighbours = {}\n",
    "common_vertices = {}\n",
    "common_vertices_count = {}"
   ]
  },
  {
   "cell_type": "markdown",
   "metadata": {},
   "source": [
    "The `determine_neighbours()` function finds all neighbours for a given vertex in the graph"
   ]
  },
  {
   "cell_type": "code",
   "execution_count": null,
   "metadata": {},
   "outputs": [],
   "source": [
    "def determine_neighbours(graph):\n",
    "    neighbours = {}\n",
    "\n",
    "    for vertex in range(len(graph)):\n",
    "        nei_set = set()\n",
    "        for node in range(len(graph)):\n",
    "            if graph[vertex][node] == 1:\n",
    "                nei_set.add(node+1)\n",
    "        neighbours[vertex+1] = nei_set\n",
    "    return neighbours"
   ]
  },
  {
   "cell_type": "markdown",
   "metadata": {},
   "source": [
    "We store the values computed from the above function in the `neighbours` dictionary"
   ]
  },
  {
   "cell_type": "code",
   "execution_count": null,
   "metadata": {},
   "outputs": [],
   "source": [
    "neighbours = determine_neighbours(graph)\n",
    "\n",
    "print(\"Neighbouring vertices to each node in the graph\")\n",
    "for ver, nei in neighbours.items():\n",
    "    print(ver, \"--->\", nei)"
   ]
  },
  {
   "cell_type": "markdown",
   "metadata": {},
   "source": [
    " The `common_nodes()` function  finds common vertices for a given pair of vertices."
   ]
  },
  {
   "cell_type": "code",
   "execution_count": null,
   "metadata": {},
   "outputs": [],
   "source": [
    "# node neighbourhood\n",
    "\n",
    "def common_nodes(graph, tau_values_dict):\n",
    "    \"\"\"\n",
    "        common_nodes function finds the common vertices between the given two vertices of a graph \n",
    "\n",
    "\n",
    "        INPUT:\n",
    "        tau_values_dict: A dictionary where key is the vertex and value is its coresponding tau set\n",
    "\n",
    "        OUTPUT:\n",
    "        \n",
    "        common_neighbours: A dictionary with key as the duo of two vertices as a frozenset and\n",
    "        value is the set of vertices that are common between two given vertices of the graph\n",
    "\n",
    "        common_neighbours_count: A dictionary similar to that of common_neighbours but\n",
    "        values are the count of common vertices\n",
    "    \"\"\"\n",
    "    common_neighbours = {}\n",
    "    common_neighbours_count = {}\n",
    "\n",
    "    for vertex1 in range(1, len(graph)+1):\n",
    "        temp = vertex1+1\n",
    "        for vertex2 in range(temp, len(graph)+1):\n",
    "\n",
    "            if graph[vertex1-1][vertex2-1] != 1:\n",
    "                vertices_pair = frozenset({vertex1, vertex2})\n",
    "                if vertices_pair not in common_neighbours:\n",
    "                    common_nodes = tau_values_dict[vertex1].intersection(tau_values_dict[vertex2])\n",
    "                    common_neighbours[vertices_pair] = common_nodes\n",
    "                    common_neighbours_count[vertices_pair] = len(common_nodes)\n",
    "\n",
    "    return (common_neighbours, common_neighbours_count)"
   ]
  },
  {
   "cell_type": "markdown",
   "metadata": {},
   "source": [
    "We store the values computed from the above function in the `common_vertices` dictionary.\n",
    "\n",
    "Similarly we store the coutn of common neighbours in `common_vertices_count` dictionary"
   ]
  },
  {
   "cell_type": "code",
   "execution_count": null,
   "metadata": {},
   "outputs": [],
   "source": [
    "common_vertices, common_vertices_count = common_nodes(graph, neighbours)\n",
    "\n",
    "\n",
    "print(\"Common vertices\")\n",
    "for ver, nei in common_vertices.items():\n",
    "\n",
    "    print(set(ver), \"--->\", nei, \", Count:\", common_vertices_count[ver])"
   ]
  },
  {
   "cell_type": "markdown",
   "metadata": {},
   "source": [
    "## 1 . Node neighbourhood principle\n",
    "\n",
    "\n",
    "___\n",
    "\n",
    "Node neighbourhood principle tries to predict the links by fiding the number of common vertices between the two given vertices.\n",
    "\n",
    "For two nodes, x and y, the size of their common\n",
    "neighbors is defined as  **|Γ(x) ∩ Γ(y)|**\n",
    "\n",
    "We already have the count of common vertices in the `common_vertices_count` variable"
   ]
  },
  {
   "cell_type": "code",
   "execution_count": null,
   "metadata": {},
   "outputs": [],
   "source": [
    "def node_neighbourhood_principle(common_vertices_count_dict):\n",
    "\n",
    "\n",
    "    sorted_dict = dict(sorted(common_vertices_count_dict.items(), key = operator.itemgetter(1), reverse=True))\n",
    "\n",
    "    print(\"Based on 'Node-Neighbourhood principle' the possible links in future are\")\n",
    "    print(\"----------------------\")\n",
    "    print(\"Pair   ----->    Common nodes\")\n",
    "    print(\"----------------------\")\n",
    "\n",
    "    for pair, count in sorted_dict.items():\n",
    "        # if count!=0:\n",
    "        print(set(pair), \"----->\", count)"
   ]
  },
  {
   "cell_type": "code",
   "execution_count": null,
   "metadata": {},
   "outputs": [],
   "source": [
    "node_neighbourhood_principle(common_vertices_count)"
   ]
  },
  {
   "cell_type": "markdown",
   "metadata": {},
   "source": [
    "The following nodes have higher chances to form links in the next timestep according to node neighbourhood principle\n",
    "\n",
    "![Node Neighbourhood Image](node_neighbourhood.png)"
   ]
  },
  {
   "cell_type": "markdown",
   "metadata": {},
   "source": [
    "## 2. Jaccard coefficient\n",
    "\n",
    "Jaccard coefficient tries to find the probability of number of common vertices over total number of vertices to predict the link between two vertices.\n",
    "\n",
    "\n",
    "![jaccard_coefficient formula](jaccard_formula.jpg)\n"
   ]
  },
  {
   "cell_type": "code",
   "execution_count": null,
   "metadata": {},
   "outputs": [],
   "source": [
    "def jaccard_coefficient(neighbours, common_vertices, common_vertices_count):\n",
    "\n",
    "    jaccard = {}\n",
    "    for pair in common_vertices.keys():\n",
    "\n",
    "        v1, v2 = set(pair)\n",
    "        total_vertices_set_length = len(neighbours[v1].union(neighbours[v2]))\n",
    "        common_vertices_set_length = common_vertices_count[pair]\n",
    "\n",
    "        value = common_vertices_set_length/total_vertices_set_length\n",
    "        jaccard[pair] = value\n",
    "\n",
    "    sorted_dict = dict(sorted(jaccard.items(), key = operator.itemgetter(1), reverse=True))\n",
    "\n",
    "    print(\"Based on 'Jaccard-Coefficient principle' the possible links in future are\")\n",
    "    print(\"----------------------\")\n",
    "    print(\"Pair   ----->    Jaccard coefficient Value\")\n",
    "    print(\"----------------------\")\n",
    "    for pair, count in sorted_dict.items():\n",
    "            print(set(pair), \"----->\", count)"
   ]
  },
  {
   "cell_type": "code",
   "execution_count": null,
   "metadata": {},
   "outputs": [],
   "source": [
    "jaccard_coefficient(neighbours, common_vertices, common_vertices_count)"
   ]
  },
  {
   "cell_type": "markdown",
   "metadata": {},
   "source": [
    "The nodes 2 and 7 have higher chances to form links in the next timestep according to Jaccard coefficient principle\n",
    "\n",
    "![Jaccard Coefficient Image](jaccard_coefficient.png)"
   ]
  },
  {
   "cell_type": "markdown",
   "metadata": {},
   "source": [
    "## 3. Adamic Adar \n",
    "\n",
    "Adamic adar finds the count of each common vertex for a pair of vertices and computes the following formula\n",
    "\n",
    "![Adamic adar formula](adamic_adar.jpg)"
   ]
  },
  {
   "cell_type": "code",
   "execution_count": null,
   "metadata": {},
   "outputs": [],
   "source": [
    "def adamic_adar(neighbours, common_nodes):\n",
    "\n",
    "    adar = {}\n",
    "\n",
    "    for key, values in common_nodes.items():\n",
    "        total = 0\n",
    "        for vertex in values:\n",
    "            tau_vertices_count = len(neighbours[vertex])\n",
    "            total += 1/math.log10(tau_vertices_count)\n",
    "        \n",
    "        if total!=0:\n",
    "            adar[key] = total\n",
    "\n",
    "    sorted_dict = dict(sorted(adar.items(), key = operator.itemgetter(1), reverse=True))\n",
    "\n",
    "    print(\"Based on 'Adar-Adamic principle' the possible links in future are\")\n",
    "    print(\"----------------------\")\n",
    "    print(\"Pair   ----->    Adamic-Adar Value\")\n",
    "    print(\"----------------------\")\n",
    "    for pair, count in sorted_dict.items():\n",
    "            print(set(pair), \"----->\", count)"
   ]
  },
  {
   "cell_type": "code",
   "execution_count": null,
   "metadata": {},
   "outputs": [],
   "source": [
    "adamic_adar(neighbours, common_vertices)"
   ]
  },
  {
   "cell_type": "markdown",
   "metadata": {},
   "source": [
    "The nodes 3 and 4 have higher chances to form links in the next timestep according to Adar-Adamic principle\n",
    "\n",
    "![Adamic Adar Image](adar.png)"
   ]
  }
 ],
 "metadata": {
  "kernelspec": {
   "display_name": "Python 3",
   "language": "python",
   "name": "python3"
  },
  "language_info": {
   "codemirror_mode": {
    "name": "ipython",
    "version": 3
   },
   "file_extension": ".py",
   "mimetype": "text/x-python",
   "name": "python",
   "nbconvert_exporter": "python",
   "pygments_lexer": "ipython3",
   "version": "3.7.3"
  }
 },
 "nbformat": 4,
 "nbformat_minor": 2
}
